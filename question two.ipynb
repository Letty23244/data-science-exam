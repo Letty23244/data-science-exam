{
 "cells": [
  {
   "cell_type": "markdown",
   "id": "8a8e83fc-f26f-41e6-b030-461133ef742c",
   "metadata": {},
   "source": [
    "## no2 a)"
   ]
  },
  {
   "cell_type": "code",
   "execution_count": 27,
   "id": "5ff5eacd-f2f6-4579-b6b0-02aea7d0daa7",
   "metadata": {},
   "outputs": [],
   "source": [
    "import pandas as pd"
   ]
  },
  {
   "cell_type": "code",
   "execution_count": 28,
   "id": "de136e3d-9066-480b-bfd6-7d34ef744162",
   "metadata": {},
   "outputs": [
    {
     "name": "stdout",
     "output_type": "stream",
     "text": [
      "     StudentID  Gender  Age  StudyHoursPerWeek  AttendanceRate   GPA  \\\n",
      "0            1    Male   24                 37           90.75  3.47   \n",
      "1            2  Female   22                 37           74.90  2.32   \n",
      "2            3    Male   22                 10           53.36  2.38   \n",
      "3            4    Male   24                 10           70.26  3.46   \n",
      "4            5    Male   18                 19           74.87  2.31   \n",
      "..         ...     ...  ...                ...             ...   ...   \n",
      "495        496    Male   22                 37           76.61  2.97   \n",
      "496        497    Male   23                 11           56.29  3.20   \n",
      "497        498  Female   20                  6           56.64  3.20   \n",
      "498        499    Male   22                 18           57.18  2.05   \n",
      "499        500  Female   24                 21           96.99  2.64   \n",
      "\n",
      "           Major PartTimeJob ExtraCurricularActivities  \n",
      "0           Arts         Yes                        No  \n",
      "1      Education          No                        No  \n",
      "2       Business          No                        No  \n",
      "3        Science         Yes                        No  \n",
      "4      Education         Yes                        No  \n",
      "..           ...         ...                       ...  \n",
      "495      Science          No                        No  \n",
      "496      Science          No                        No  \n",
      "497      Science          No                       Yes  \n",
      "498     Business          No                       Yes  \n",
      "499  Engineering          No                        No  \n",
      "\n",
      "[500 rows x 9 columns]\n"
     ]
    }
   ],
   "source": [
    "student_df = pd.read_csv('student_performance_data.csv')\n",
    "print(student_df)"
   ]
  },
  {
   "cell_type": "code",
   "execution_count": 39,
   "id": "0f0a1644-65be-4f26-9311-ece2695acb07",
   "metadata": {},
   "outputs": [
    {
     "name": "stdout",
     "output_type": "stream",
     "text": [
      "Gender  Major      \n",
      "Female  Arts           1070\n",
      "        Business       1229\n",
      "        Education       818\n",
      "        Engineering    1196\n",
      "        Science         813\n",
      "Male    Arts            881\n",
      "        Business       1130\n",
      "        Education      1212\n",
      "        Engineering     929\n",
      "        Science         660\n",
      "Name: StudyHoursPerWeek, dtype: int64\n"
     ]
    }
   ],
   "source": [
    "student_new =student_df.groupby([\"Gender\",'Major'])['StudyHoursPerWeek'].sum()\n",
    "print(student_new)"
   ]
  },
  {
   "cell_type": "code",
   "execution_count": 44,
   "id": "7a029de8-6e87-46ae-9b78-d1ab7050a0cb",
   "metadata": {},
   "outputs": [
    {
     "name": "stdout",
     "output_type": "stream",
     "text": [
      "20.5\n"
     ]
    }
   ],
   "source": [
    "student_median = student_df['StudyHoursPerWeek'].median()\n",
    "print(student_median)"
   ]
  },
  {
   "cell_type": "code",
   "execution_count": 51,
   "id": "1faab2cd-8917-4c92-93af-7c92c9cded7e",
   "metadata": {},
   "outputs": [
    {
     "name": "stdout",
     "output_type": "stream",
     "text": [
      "Gender\n",
      "Female    75.925742\n",
      "Male      74.009016\n",
      "Name: AttendanceRate, dtype: float64\n"
     ]
    }
   ],
   "source": [
    "mean = student_df.groupby('Gender')['AttendanceRate'].mean()\n",
    "print(mean)"
   ]
  },
  {
   "cell_type": "code",
   "execution_count": 56,
   "id": "c740e56f-0776-43ea-b9fa-ab4b317c58ac",
   "metadata": {},
   "outputs": [
    {
     "name": "stdout",
     "output_type": "stream",
     "text": [
      "PartTimeJob\n",
      "Yes    53.6\n",
      "No     46.4\n",
      "Name: proportion, dtype: float64\n"
     ]
    }
   ],
   "source": [
    "percentage = student_df['PartTimeJob'].value_counts(normalize=True)*100\n",
    "print(percentage)"
   ]
  },
  {
   "cell_type": "code",
   "execution_count": 57,
   "id": "c4ee677e-8162-422e-96d9-554b1c321087",
   "metadata": {},
   "outputs": [
    {
     "name": "stdout",
     "output_type": "stream",
     "text": [
      "Gender\n",
      "Female    2.995352\n",
      "Male      2.974467\n",
      "Name: GPA, dtype: float64\n"
     ]
    }
   ],
   "source": [
    "GPA =student_df.groupby('Gender')['GPA'].mean()\n",
    "print(GPA)"
   ]
  },
  {
   "cell_type": "code",
   "execution_count": 58,
   "id": "aaf6c4d2-2cdf-464e-b3e3-c3498a5e29d6",
   "metadata": {},
   "outputs": [
    {
     "name": "stdout",
     "output_type": "stream",
     "text": [
      "Gender\n",
      "Female    4.005637\n",
      "Male      3.960130\n",
      "Name: Age, dtype: float64\n"
     ]
    }
   ],
   "source": [
    "VARIANCE = student_df.groupby('Gender')['Age'].var()\n",
    "print(VARIANCE)"
   ]
  },
  {
   "cell_type": "code",
   "execution_count": 59,
   "id": "0211ec7f-9cb5-435c-a0f0-cf3ccff9ed3f",
   "metadata": {},
   "outputs": [],
   "source": [
    "import seaborn as sns"
   ]
  },
  {
   "cell_type": "code",
   "execution_count": 61,
   "id": "423a8fd1-0313-404b-98a3-140f572bb10d",
   "metadata": {},
   "outputs": [],
   "source": [
    "import  matplotlib.pyplot as plt"
   ]
  },
  {
   "cell_type": "code",
   "execution_count": 84,
   "id": "ccb8ff90-c134-4a0c-8e3a-2b96b28e7099",
   "metadata": {},
   "outputs": [
    {
     "data": {
      "image/png": "[encoded data removed]",
      "text/plain": [
       "<Figure size 640x480 with 1 Axes>"
      ]
     },
     "metadata": {},
     "output_type": "display_data"
    }
   ],
   "source": [
    "plt.scatter('Gender', 'AttendanceRate')\n",
    "plt.xlabel('GPA')\n",
    "plt.ylabel('AttendanceRate')\n",
    "plt.title('Relationship')\n",
    "plt.show()\n",
    "\n"
   ]
  },
  {
   "cell_type": "code",
   "execution_count": null,
   "id": "066f8a7d-6b9f-40a3-b30e-f2abf47b1928",
   "metadata": {},
   "outputs": [],
   "source": []
  }
 ],
 "metadata": {
  "kernelspec": {
   "display_name": "Python 3 (ipykernel)",
   "language": "python",
   "name": "python3"
  },
  "language_info": {
   "codemirror_mode": {
    "name": "ipython",
    "version": 3
   },
   "file_extension": ".py",
   "mimetype": "text/x-python",
   "name": "python",
   "nbconvert_exporter": "python",
   "pygments_lexer": "ipython3",
   "version": "3.13.1"
  }
 },
 "nbformat": 4,
 "nbformat_minor": 5
}

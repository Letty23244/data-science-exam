{
 "cells": [
  {
   "cell_type": "markdown",
   "id": "63acbfda-af47-4d15-9465-2408177e04ed",
   "metadata": {},
   "source": [
    "##  no 1 a"
   ]
  },
  {
   "cell_type": "code",
   "execution_count": 1,
   "id": "0c51f7e9-a322-4de8-97f2-385069021923",
   "metadata": {},
   "outputs": [],
   "source": [
    "import pandas as pd"
   ]
  },
  {
   "cell_type": "code",
   "execution_count": 5,
   "id": "c699e122-e3a2-42be-82e6-34894d1b7b88",
   "metadata": {},
   "outputs": [
    {
     "name": "stdout",
     "output_type": "stream",
     "text": [
      "   Age     Sex           Marital_status  Number_of_children  Family_size  \\\n",
      "0   30    Male  Married, spouse present                   2            4   \n",
      "1   28  Female  Married, spouse present     1 child present            3   \n",
      "2   34    Male  Married, spouse present     1 child present            3   \n",
      "3   58  Female   Married, spouse absent     1 child present            2   \n",
      "4   39    Male     Never married/single  0 children present            1   \n",
      "\n",
      "                 Education-degree_recode  \\\n",
      "0      Masterâ€™s or professional degree   \n",
      "1      Masterâ€™s or professional degree   \n",
      "2                    Bachelorâ€™s degree   \n",
      "3  1 or more years of college, no degree   \n",
      "4                    Bachelorâ€™s degree   \n",
      "\n",
      "               Education-degree_recode 2  \\\n",
      "0          Master or professional degree   \n",
      "1          Master or professional degree   \n",
      "2                        Bachelor degree   \n",
      "3  1 or more years of college, no degree   \n",
      "4                        Bachelor degree   \n",
      "\n",
      "                               Education Race_ethnicity-multi_recode  \\\n",
      "0   Master or PhD or professional degree          Non-Hispanic White   \n",
      "1   Master or PhD or professional degree          Non-Hispanic White   \n",
      "2           Associate or Bachelor degree          Non-Hispanic White   \n",
      "3  1 or more years of college, no degree          Non-Hispanic White   \n",
      "4           Associate or Bachelor degree          Non-Hispanic White   \n",
      "\n",
      "   Immigrate-year                          Birthplace_recode  \\\n",
      "0               0  U.S. state, territory, or outlying region   \n",
      "1               0  U.S. state, territory, or outlying region   \n",
      "2               0  U.S. state, territory, or outlying region   \n",
      "3               0  U.S. state, territory, or outlying region   \n",
      "4               0  U.S. state, territory, or outlying region   \n",
      "\n",
      "             Speaks_English Employment_status  Income-wages Region_recode  \\\n",
      "0  Yes, speaks only English          Employed         63000         South   \n",
      "1  Yes, speaks only English          Employed         46000         South   \n",
      "2  Yes, speaks only English          Employed         45000         South   \n",
      "3  Yes, speaks only English          Employed         55000         South   \n",
      "4  Yes, speaks only English          Employed         12000         South   \n",
      "\n",
      "  Region-division_recode       Moved  Year      state  \n",
      "0     East South Central  Same house  2020  Tennessee  \n",
      "1     East South Central  Same house  2020  Tennessee  \n",
      "2     East South Central  Same house  2020  Tennessee  \n",
      "3     East South Central  Same house  2020  Tennessee  \n",
      "4     East South Central  Same house  2020  Tennessee  \n"
     ]
    }
   ],
   "source": [
    "Data = pd.read_excel('Wages 2020Census cleaned.xlsx')\n",
    "print(Data.head())\n",
    "# source ; note book of pandas"
   ]
  },
  {
   "cell_type": "code",
   "execution_count": 9,
   "id": "ce47c6fc-95a1-4867-add0-a396b1b7f1d3",
   "metadata": {},
   "outputs": [
    {
     "name": "stdout",
     "output_type": "stream",
     "text": [
      "58704.16494845361\n"
     ]
    }
   ],
   "source": [
    "mean =Data['Income-wages'].mean() # my aim was to find the mean of the data set which was 58704.164\n",
    "print(mean)"
   ]
  },
  {
   "cell_type": "code",
   "execution_count": 10,
   "id": "2f2ec1d6-6b25-4698-af74-e3e068dfd88c",
   "metadata": {},
   "outputs": [
    {
     "name": "stdout",
     "output_type": "stream",
     "text": [
      "41000.0\n"
     ]
    }
   ],
   "source": [
    "median =Data['Income-wages'].median() #finding the median of the dataset using the Income-wages\n",
    "print(median)"
   ]
  },
  {
   "cell_type": "markdown",
   "id": "ac5e24d4-2d22-4bdf-99cf-a787e9c3d5d1",
   "metadata": {},
   "source": [
    "## no1 b)"
   ]
  },
  {
   "cell_type": "code",
   "execution_count": 12,
   "id": "3a94fcba-3434-4ae3-8a02-c1c38134dfbd",
   "metadata": {},
   "outputs": [
    {
     "name": "stdout",
     "output_type": "stream",
     "text": [
      "68338.0614351565\n"
     ]
    }
   ],
   "source": [
    "new_data = Data['Income-wages'].std()\n",
    "print(new_data)"
   ]
  },
  {
   "cell_type": "code",
   "execution_count": 13,
   "id": "461f25a5-8005-4277-b78e-95c4e7d7aa3c",
   "metadata": {},
   "outputs": [
    {
     "name": "stdout",
     "output_type": "stream",
     "text": [
      "30\n"
     ]
    }
   ],
   "source": [
    "new_data =Data['Income-wages'].min()\n",
    "print(new_data)"
   ]
  },
  {
   "cell_type": "code",
   "execution_count": 14,
   "id": "5ac9baf0-5aeb-4065-86b9-89683d983e4d",
   "metadata": {},
   "outputs": [
    {
     "name": "stdout",
     "output_type": "stream",
     "text": [
      "661000\n"
     ]
    }
   ],
   "source": [
    "new_data =Data['Income-wages'].max()\n",
    "print(new_data)"
   ]
  },
  {
   "cell_type": "code",
   "execution_count": 15,
   "id": "9802efa4-224c-4927-bbc6-44d5d29acdd7",
   "metadata": {},
   "outputs": [],
   "source": [
    "#  the income of these people vary because i used the standard deviation  where i confirmed that it has no zero values"
   ]
  },
  {
   "cell_type": "markdown",
   "id": "6cbc948c-3876-4f6b-a73b-41e812efeffd",
   "metadata": {},
   "source": [
    "## no 1 c)"
   ]
  },
  {
   "cell_type": "code",
   "execution_count": 21,
   "id": "d3fcb8e5-adda-4b35-b3ed-a59080f0f593",
   "metadata": {},
   "outputs": [],
   "source": [
    "import numpy as np"
   ]
  },
  {
   "cell_type": "code",
   "execution_count": 27,
   "id": "aad385e2-5ee7-4133-8605-09a22e4eafde",
   "metadata": {},
   "outputs": [
    {
     "name": "stdout",
     "output_type": "stream",
     "text": [
      "70970.0\n"
     ]
    }
   ],
   "source": [
    "Q1 = Data['Age'].quantile(0.25)  \n",
    "Q3 = Data['Income-wages'].quantile(0.75)  \n",
    "IQR = np.subtract(Q3, Q1)\n",
    "print(IQR)"
   ]
  },
  {
   "cell_type": "code",
   "execution_count": 25,
   "id": "eb72a173-f2b8-4bbe-b779-a891fc8ef226",
   "metadata": {},
   "outputs": [
    {
     "name": "stdout",
     "output_type": "stream",
     "text": [
      "68338.0614351565\n"
     ]
    }
   ],
   "source": [
    "standard_deviation = Data['Income-wages'].std()\n",
    "print(standard_deviation)"
   ]
  },
  {
   "cell_type": "code",
   "execution_count": 29,
   "id": "94041480-961e-41db-803a-0c00f8800aec",
   "metadata": {},
   "outputs": [
    {
     "name": "stdout",
     "output_type": "stream",
     "text": [
      "2631.938564843498\n"
     ]
    }
   ],
   "source": [
    "values = IQR-standard_deviation\n",
    "print(values)"
   ]
  },
  {
   "cell_type": "code",
   "execution_count": 30,
   "id": "65e9df2b-3da8-410e-b2a4-00cbf352966c",
   "metadata": {},
   "outputs": [],
   "source": [
    "# if thereh is no variability in the  the yearly income is constant because\n",
    "# the standard deviation and the IQR is zero meaning that the people get the same come where we subtract the standard deviation\n",
    "# from the IQR"
   ]
  },
  {
   "cell_type": "markdown",
   "id": "9c559f8a-f492-4b3a-9530-72b4c093e8d6",
   "metadata": {},
   "source": [
    "## d)"
   ]
  },
  {
   "cell_type": "code",
   "execution_count": 31,
   "id": "540c06e6-9dfd-4f61-87b7-e1df358adc56",
   "metadata": {},
   "outputs": [],
   "source": [
    "# we normalize the mean by subtracting  the mean values of each features from all data point if all individuals have the same income\n",
    "# the median is the middle point of the dataset if the individuals have the same median then the income is equal to median\n",
    "#minimum is the lowest part of dataset so if there is no variability it means that the mimimum has no negatives value\n",
    "# maximum is the largest point of the dataset and if there is no variability it means that the all the individuals income is the same at one point\n",
    "#IQR  is made up of two quartiles which include the 25%quartile and the 75% quartile  so since all the individual have the same IQR \n",
    "# which is got by subtracting the Q3-Q1 "
   ]
  },
  {
   "cell_type": "code",
   "execution_count": 32,
   "id": "3779c786-e676-4785-8dee-87407047a64e",
   "metadata": {},
   "outputs": [],
   "source": [
    "import seaborn as sns"
   ]
  },
  {
   "cell_type": "code",
   "execution_count": 33,
   "id": "4796217a-a9a5-4bf8-8ef6-95fe50531af1",
   "metadata": {},
   "outputs": [],
   "source": [
    "import matplotlib.pyplot as plt"
   ]
  },
  {
   "cell_type": "code",
   "execution_count": null,
   "id": "dda7b1b9-98da-4464-84fd-4c7decee57d6",
   "metadata": {},
   "outputs": [],
   "source": [
    "sns.boxplot(x='Region_recode', y='Income-wages')\n",
    "plt.title('boxplot of  Region-recode against Income-wages')\n",
    "plt.xlabel('Region_recode')\n",
    "plt.ylabel('Income_wages')\n",
    "plt.figure(figsize =(15,9))"
   ]
  },
  {
   "cell_type": "code",
   "execution_count": null,
   "id": "d3a2aff4-2e73-4789-8a36-6a878dd85eeb",
   "metadata": {},
   "outputs": [],
   "source": []
  }
 ],
 "metadata": {
  "kernelspec": {
   "display_name": "Python 3",
   "language": "python",
   "name": "python3"
  },
  "language_info": {
   "codemirror_mode": {
    "name": "ipython",
    "version": 3
   },
   "file_extension": ".py",
   "mimetype": "text/x-python",
   "name": "python",
   "nbconvert_exporter": "python",
   "pygments_lexer": "ipython3",
   "version": "3.13.1"
  }
 },
 "nbformat": 4,
 "nbformat_minor": 5
}

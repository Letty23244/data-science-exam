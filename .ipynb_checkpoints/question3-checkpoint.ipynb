{
 "cells": [
  {
   "cell_type": "markdown",
   "id": "f192e5c3-31bd-4374-ae70-31aa31c98a85",
   "metadata": {},
   "source": [
    "## no3 a)"
   ]
  },
  {
   "cell_type": "code",
   "execution_count": 1,
   "id": "ed3b3a75-6b91-4015-9b4e-62c31d84f155",
   "metadata": {},
   "outputs": [],
   "source": [
    "# steps of fiting a model include the following\n",
    "# importing of the necessary liabraries such as pandas, sklearn and matplotlib to the model\n",
    "# we test the model by giving the model new data.\n",
    "# we train the model by showing it the variable examples\n",
    "# make prediction of the model by using the trained model to make prediction on the tested data\n",
    "# evaluate the model  where we use the mean sqaure error and the R-squared score"
   ]
  },
  {
   "cell_type": "markdown",
   "id": "d6fe1b02-5345-478d-8110-5bdcd195eeb9",
   "metadata": {},
   "source": [
    "## no 3 b)"
   ]
  },
  {
   "cell_type": "code",
   "execution_count": 2,
   "id": "87db3a38-8622-4a4f-b41a-e7d459e13796",
   "metadata": {},
   "outputs": [],
   "source": [
    "# assumption :there is linearity where  the relationhip between the independent variable(x) and dependent variable(y) are linear\n",
    "              # it assumes there is a linear regression and we try to proof it\n",
    "              # it assumes that the error has to come from a normal distribution\n",
    "              # it assumes target variable should be a continous failure\n",
    "              #homoscedasticity the variance of the residual error is constant across all levels"
   ]
  },
  {
   "cell_type": "markdown",
   "id": "739940b0-97c0-4777-8c94-898bc47b640c",
   "metadata": {},
   "source": [
    "## n0 3 c)"
   ]
  },
  {
   "cell_type": "code",
   "execution_count": 4,
   "id": "43439138-68ba-44e7-bff7-125d9f5487e7",
   "metadata": {},
   "outputs": [],
   "source": [
    "import pandas as pd\n"
   ]
  },
  {
   "cell_type": "code",
   "execution_count": 5,
   "id": "9d4d658d-148f-4b8c-9f20-c99d1d01a6ff",
   "metadata": {},
   "outputs": [],
   "source": [
    "from sklearn.linear_model import LinearRegression"
   ]
  },
  {
   "cell_type": "code",
   "execution_count": 6,
   "id": "6238b39f-cf25-408f-96d2-526a7ad2c13b",
   "metadata": {},
   "outputs": [],
   "source": [
    "from sklearn.model_selection import train_test_split"
   ]
  },
  {
   "cell_type": "code",
   "execution_count": 7,
   "id": "1509e0fe-f7ad-4288-8730-abfa0af302b6",
   "metadata": {},
   "outputs": [],
   "source": [
    "from sklearn.metrics import mean_squared_error, r2_score "
   ]
  },
  {
   "cell_type": "code",
   "execution_count": 15,
   "id": "1d54f91b-192b-4fc8-a533-c74d4a3ac0f1",
   "metadata": {},
   "outputs": [
    {
     "name": "stdout",
     "output_type": "stream",
     "text": [
      "      Age     Sex           Marital_status  Number_of_children  Family_size  \\\n",
      "0      30    Male  Married, spouse present                   2            4   \n",
      "1      28  Female  Married, spouse present     1 child present            3   \n",
      "2      34    Male  Married, spouse present     1 child present            3   \n",
      "3      58  Female   Married, spouse absent     1 child present            2   \n",
      "4      39    Male     Never married/single  0 children present            1   \n",
      "...   ...     ...                      ...                 ...          ...   \n",
      "4360   67    Male  Married, spouse present  0 children present            2   \n",
      "4361   48    Male  Married, spouse present                   4            6   \n",
      "4362   33    Male   Married, spouse absent  0 children present            1   \n",
      "4363   22  Female     Never married/single  0 children present            2   \n",
      "4364   49  Female  Married, spouse present                   2            4   \n",
      "\n",
      "                    Education-degree_recode  \\\n",
      "0         Masterâ€™s or professional degree   \n",
      "1         Masterâ€™s or professional degree   \n",
      "2                       Bachelorâ€™s degree   \n",
      "3     1 or more years of college, no degree   \n",
      "4                       Bachelorâ€™s degree   \n",
      "...                                     ...   \n",
      "4360                    Bachelorâ€™s degree   \n",
      "4361                   Associateâ€™s degree   \n",
      "4362                   Associateâ€™s degree   \n",
      "4363  1 or more years of college, no degree   \n",
      "4364      Masterâ€™s or professional degree   \n",
      "\n",
      "                  Education-degree_recode 2  \\\n",
      "0             Master or professional degree   \n",
      "1             Master or professional degree   \n",
      "2                           Bachelor degree   \n",
      "3     1 or more years of college, no degree   \n",
      "4                           Bachelor degree   \n",
      "...                                     ...   \n",
      "4360                        Bachelor degree   \n",
      "4361                       Associate degree   \n",
      "4362                       Associate degree   \n",
      "4363  1 or more years of college, no degree   \n",
      "4364          Master or professional degree   \n",
      "\n",
      "                                  Education Race_ethnicity-multi_recode  \\\n",
      "0      Master or PhD or professional degree          Non-Hispanic White   \n",
      "1      Master or PhD or professional degree          Non-Hispanic White   \n",
      "2              Associate or Bachelor degree          Non-Hispanic White   \n",
      "3     1 or more years of college, no degree          Non-Hispanic White   \n",
      "4              Associate or Bachelor degree          Non-Hispanic White   \n",
      "...                                     ...                         ...   \n",
      "4360           Associate or Bachelor degree          Non-Hispanic White   \n",
      "4361           Associate or Bachelor degree          Non-Hispanic White   \n",
      "4362           Associate or Bachelor degree          Non-Hispanic Black   \n",
      "4363  1 or more years of college, no degree          Non-Hispanic White   \n",
      "4364   Master or PhD or professional degree          Non-Hispanic White   \n",
      "\n",
      "      Immigrate-year                          Birthplace_recode  \\\n",
      "0                  0  U.S. state, territory, or outlying region   \n",
      "1                  0  U.S. state, territory, or outlying region   \n",
      "2                  0  U.S. state, territory, or outlying region   \n",
      "3                  0  U.S. state, territory, or outlying region   \n",
      "4                  0  U.S. state, territory, or outlying region   \n",
      "...              ...                                        ...   \n",
      "4360               0  U.S. state, territory, or outlying region   \n",
      "4361               0  U.S. state, territory, or outlying region   \n",
      "4362            2017                                     Africa   \n",
      "4363               0  U.S. state, territory, or outlying region   \n",
      "4364               0  U.S. state, territory, or outlying region   \n",
      "\n",
      "                Speaks_English Employment_status  Income-wages Region_recode  \\\n",
      "0     Yes, speaks only English          Employed         63000         South   \n",
      "1     Yes, speaks only English          Employed         46000         South   \n",
      "2     Yes, speaks only English          Employed         45000         South   \n",
      "3     Yes, speaks only English          Employed         55000         South   \n",
      "4     Yes, speaks only English          Employed         12000         South   \n",
      "...                        ...               ...           ...           ...   \n",
      "4360  Yes, speaks only English          Employed         40000       Midwest   \n",
      "4361  Yes, speaks only English          Employed         65000       Midwest   \n",
      "4362     Yes, speaks very well          Employed         45000       Midwest   \n",
      "4363  Yes, speaks only English          Employed           500       Midwest   \n",
      "4364  Yes, speaks only English          Employed        498000       Midwest   \n",
      "\n",
      "     Region-division_recode       Moved  Year         state  \n",
      "0        East South Central  Same house  2020     Tennessee  \n",
      "1        East South Central  Same house  2020     Tennessee  \n",
      "2        East South Central  Same house  2020     Tennessee  \n",
      "3        East South Central  Same house  2020     Tennessee  \n",
      "4        East South Central  Same house  2020     Tennessee  \n",
      "...                     ...         ...   ...           ...  \n",
      "4360     West North Central  Same house  2020  North Dakota  \n",
      "4361     West North Central  Same house  2020  North Dakota  \n",
      "4362     West North Central  Same house  2020  North Dakota  \n",
      "4363     West North Central  Same house  2020  North Dakota  \n",
      "4364     West North Central  Same house  2020  North Dakota  \n",
      "\n",
      "[4365 rows x 19 columns]\n"
     ]
    }
   ],
   "source": [
    "\n",
    "data = pd.read_excel('Wages 2020Census cleaned.xlsx')\n",
    "print(data)"
   ]
  },
  {
   "cell_type": "code",
   "execution_count": null,
   "id": "f5d64ff8-227f-4015-a6fc-fd120bb76815",
   "metadata": {},
   "outputs": [],
   "source": []
  }
 ],
 "metadata": {
  "kernelspec": {
   "display_name": "Python 3 (ipykernel)",
   "language": "python",
   "name": "python3"
  },
  "language_info": {
   "codemirror_mode": {
    "name": "ipython",
    "version": 3
   },
   "file_extension": ".py",
   "mimetype": "text/x-python",
   "name": "python",
   "nbconvert_exporter": "python",
   "pygments_lexer": "ipython3",
   "version": "3.13.1"
  }
 },
 "nbformat": 4,
 "nbformat_minor": 5
}

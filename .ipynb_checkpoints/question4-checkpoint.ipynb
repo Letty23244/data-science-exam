{
 "cells": [
  {
   "cell_type": "code",
   "execution_count": 1,
   "id": "6c6eb354-724e-4c12-a18d-21d73a194b0f",
   "metadata": {},
   "outputs": [],
   "source": [
    "import numpy as np"
   ]
  },
  {
   "cell_type": "code",
   "execution_count": 2,
   "id": "5be53890-fa76-4b24-bdd2-fa028b7f5244",
   "metadata": {},
   "outputs": [
    {
     "name": "stdout",
     "output_type": "stream",
     "text": [
      "[[2 4 5]\n",
      " [3 5 8]\n",
      " [6 7 8]\n",
      " [1 3 2]\n",
      " [4 5 6]]\n"
     ]
    }
   ],
   "source": [
    "matrix_A = np.array([[2,4,5],[3,5,8],[6,7,8],[1,3,2],[4,5,6]])\n",
    "print(matrix_A)\n"
   ]
  },
  {
   "cell_type": "code",
   "execution_count": 3,
   "id": "2bd3f87f-bfad-48da-888b-fb9f8b411058",
   "metadata": {},
   "outputs": [
    {
     "name": "stdout",
     "output_type": "stream",
     "text": [
      "[[4 5]\n",
      " [6 8]\n",
      " [1 3]]\n"
     ]
    }
   ],
   "source": [
    "matrix_B = np.array([[4,5],[6,8],[1,3]])\n",
    "print(matrix_B)"
   ]
  },
  {
   "cell_type": "code",
   "execution_count": 4,
   "id": "f085b830-71dc-4b55-af57-e759664dd142",
   "metadata": {},
   "outputs": [
    {
     "name": "stdout",
     "output_type": "stream",
     "text": [
      "[[ 37  57]\n",
      " [ 50  79]\n",
      " [ 74 110]\n",
      " [ 24  35]\n",
      " [ 52  78]]\n"
     ]
    }
   ],
   "source": [
    "matrix_C = np.dot(matrix_A,matrix_B)\n",
    "print(matrix_C)"
   ]
  },
  {
   "cell_type": "code",
   "execution_count": 5,
   "id": "1d6dbdc2-be7e-4c79-9f87-baca86381fc6",
   "metadata": {},
   "outputs": [
    {
     "name": "stdout",
     "output_type": "stream",
     "text": [
      "[[1. 0. 0.]\n",
      " [0. 1. 0.]\n",
      " [0. 0. 1.]]\n"
     ]
    }
   ],
   "source": [
    "New_matrix = np.eye(3)\n",
    "print(New_matrix)"
   ]
  },
  {
   "cell_type": "code",
   "execution_count": 6,
   "id": "a814b88f-a7c4-44cb-acc0-0c7051041a27",
   "metadata": {},
   "outputs": [
    {
     "name": "stdout",
     "output_type": "stream",
     "text": [
      "[[1 0 0]\n",
      " [0 1 0]\n",
      " [0 0 1]]\n"
     ]
    }
   ],
   "source": [
    "matrix_d = np.array([[1,0,0],[0,1,0],[0,0,1]])\n",
    "print(matrix_d)"
   ]
  },
  {
   "cell_type": "code",
   "execution_count": 7,
   "id": "a5271ecf-dea1-44c3-999c-8c060c6b5c93",
   "metadata": {},
   "outputs": [
    {
     "name": "stdout",
     "output_type": "stream",
     "text": [
      "[10 11 12 13 14 15 16 17 18 19 20 21 22 23 24 25 26 27 28 29 30 31 32 33\n",
      " 34 35 36 37 38 39 40 41 42 43 44 45 46 47 48 49]\n"
     ]
    }
   ],
   "source": [
    "vector = np.arange(10,50)\n",
    "print(vector)"
   ]
  },
  {
   "cell_type": "code",
   "execution_count": 10,
   "id": "00599d6f-bbb7-420f-b52b-62087434d188",
   "metadata": {},
   "outputs": [
    {
     "name": "stdout",
     "output_type": "stream",
     "text": [
      "[0. 0. 0. 0. 0. 0. 0. 0. 0. 0.]\n"
     ]
    }
   ],
   "source": [
    "null_values =np.zeros(10)\n",
    "print(null_values)"
   ]
  },
  {
   "cell_type": "code",
   "execution_count": 8,
   "id": "87f14efd-1083-4bea-a7de-f085618af084",
   "metadata": {},
   "outputs": [],
   "source": [
    "from numpy import random"
   ]
  },
  {
   "cell_type": "code",
   "execution_count": 9,
   "id": "3df10584-6fb4-48b8-bae6-30e8ec825cbf",
   "metadata": {},
   "outputs": [
    {
     "name": "stdout",
     "output_type": "stream",
     "text": [
      "[[[0.31823818 0.82120065 0.99256625]\n",
      "  [0.57867462 0.78355246 0.45045533]\n",
      "  [0.21596016 0.83408089 0.07848572]]\n",
      "\n",
      " [[0.41713806 0.14819699 0.24787322]\n",
      "  [0.84969285 0.92083748 0.85765815]\n",
      "  [0.86834159 0.4387792  0.54798298]]\n",
      "\n",
      " [[0.15079928 0.65650558 0.26639939]\n",
      "  [0.29024938 0.55372914 0.1414835 ]\n",
      "  [0.99651179 0.58663118 0.5389425 ]]]\n"
     ]
    }
   ],
   "source": [
    "random =np.random.rand(3,3,3)\n",
    "print(random)"
   ]
  },
  {
   "cell_type": "code",
   "execution_count": null,
   "id": "cba7456d-45e0-454f-bbe1-c88a78b95b67",
   "metadata": {},
   "outputs": [],
   "source": []
  }
 ],
 "metadata": {
  "kernelspec": {
   "display_name": "Python 3 (ipykernel)",
   "language": "python",
   "name": "python3"
  },
  "language_info": {
   "codemirror_mode": {
    "name": "ipython",
    "version": 3
   },
   "file_extension": ".py",
   "mimetype": "text/x-python",
   "name": "python",
   "nbconvert_exporter": "python",
   "pygments_lexer": "ipython3",
   "version": "3.13.1"
  }
 },
 "nbformat": 4,
 "nbformat_minor": 5
}
